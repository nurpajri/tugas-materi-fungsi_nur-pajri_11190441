{
  "nbformat": 4,
  "nbformat_minor": 0,
  "metadata": {
    "colab": {
      "name": "nur pajri_11190441.ipynb",
      "provenance": []
    },
    "kernelspec": {
      "name": "python3",
      "display_name": "Python 3"
    }
  },
  "cells": [
    {
      "cell_type": "code",
      "metadata": {
        "id": "vmYb4kJ-aS1W",
        "outputId": "5fc3ead1-c3fa-4f4f-f5bb-b1ade7a313cd",
        "colab": {
          "base_uri": "https://localhost:8080/"
        }
      },
      "source": [
        "def luas_limas_segi_empat(Alas_limas, Tinggi_limas):\n",
        "    Alas_limas = int(input(\"Masukkan alas :\"))\n",
        "    Tinggi_limas = int(input(\"Masukkan tinggi :\"))\n",
        "    luas = (Alas_limas*Alas_limas) + (4*0.5*Alas_limas*Tinggi_limas)\n",
        "    return luas\n",
        "\n",
        "print(\"Luas : %d\" % (luas_limas_segi_empat (input, input)))"
      ],
      "execution_count": 14,
      "outputs": [
        {
          "output_type": "stream",
          "text": [
            "Masukkan alas :4\n",
            "Masukkan tinggi :6\n",
            "Luas : 64\n"
          ],
          "name": "stdout"
        }
      ]
    }
  ]
}